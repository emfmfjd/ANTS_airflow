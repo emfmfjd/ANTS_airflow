{
 "cells": [
  {
   "cell_type": "code",
   "execution_count": 66,
   "metadata": {},
   "outputs": [],
   "source": [
    "import pandas as pd\n",
    "import requests\n",
    "import json\n",
    "from tqdm import tqdm\n",
    "from sqlalchemy import create_engine\n",
    "import boto3\n",
    "\n",
    "from keys import *"
   ]
  },
  {
   "cell_type": "code",
   "execution_count": 92,
   "metadata": {},
   "outputs": [],
   "source": [
    "types = {'Name':'str','Code':'str'}\n",
    "name_list = list(pd.read_csv(\"~/airflow/stock_data/data/code.csv\")['Name'])\n",
    "name_df = pd.read_csv(\"~/airflow/stock_data/data/code.csv\", dtype=types).rename(columns={\"Name\":\"name\",\"Code\":\"stock_code\"})"
   ]
  },
  {
   "cell_type": "code",
   "execution_count": 68,
   "metadata": {},
   "outputs": [],
   "source": [
    "url = \"https://openapi.naver.com/v1/search/news.json\"\n",
    "\n",
    "header = {\n",
    "    \"X-Naver-Client-Id\" : \"azhP2a68ejoD_N1Bwp55\",\n",
    "    \"X-Naver-Client-Secret\":\"I9LYuloz92\"\n",
    "}"
   ]
  },
  {
   "cell_type": "code",
   "execution_count": 69,
   "metadata": {},
   "outputs": [],
   "source": [
    "# rds와 연결\n",
    "user = 'ants'\n",
    "password = rds_password()\n",
    "host= end_point()\n",
    "port = 3306\n",
    "database = 'datawarehouse'\n",
    "engine = create_engine(f\"mysql+pymysql://{user}:{password}@{host}:{port}/{database}\")"
   ]
  },
  {
   "cell_type": "code",
   "execution_count": 74,
   "metadata": {},
   "outputs": [],
   "source": [
    "# for x in tqdm(name_list):    \n",
    "param = {\n",
    "    \"query\" : \"삼성전자\",\n",
    "    \"display\" : 100,\n",
    "    \"start\" : 1,\n",
    "    \"sort\" : \"sim\",\n",
    "}\n",
    "r = requests.get(url, params=param, headers=header)"
   ]
  },
  {
   "cell_type": "code",
   "execution_count": 94,
   "metadata": {},
   "outputs": [
    {
     "name": "stderr",
     "output_type": "stream",
     "text": [
      "/tmp/ipykernel_2351341/3388790679.py:7: SettingWithCopyWarning: \n",
      "A value is trying to be set on a copy of a slice from a DataFrame.\n",
      "Try using .loc[row_indexer,col_indexer] = value instead\n",
      "\n",
      "See the caveats in the documentation: https://pandas.pydata.org/pandas-docs/stable/user_guide/indexing.html#returning-a-view-versus-a-copy\n",
      "  rds_df['name'] = \"삼성전자\"\n",
      "/tmp/ipykernel_2351341/3388790679.py:8: SettingWithCopyWarning: \n",
      "A value is trying to be set on a copy of a slice from a DataFrame\n",
      "\n",
      "See the caveats in the documentation: https://pandas.pydata.org/pandas-docs/stable/user_guide/indexing.html#returning-a-view-versus-a-copy\n",
      "  rds_df.drop(columns=\"link\", inplace=True)\n"
     ]
    }
   ],
   "source": [
    "data = r.json()['items']\n",
    "# with open(f\"./news_data/{x}.json\", \"w\", encoding='utf-8') as f:\n",
    "#     json.dump(data, f, ensure_ascii=False, indent=4)\n",
    "df = pd.DataFrame(data)\n",
    "df['pubDate'] = pd.to_datetime(df['pubDate'], format='%a, %d %b %Y %H:%M:%S %z')\n",
    "rds_df = df[df['pubDate'] >= \"20240830\"]\n",
    "rds_df['name'] = \"삼성전자\"\n",
    "rds_df.drop(columns=\"link\", inplace=True)"
   ]
  },
  {
   "cell_type": "code",
   "execution_count": 97,
   "metadata": {},
   "outputs": [],
   "source": [
    "rds_df = pd.merge(rds_df, name_df, on = 'name', how='left')\n",
    "columns = ['stock_code','name','pubDate','title','description','originallink']\n",
    "rds_df = rds_df[columns]"
   ]
  },
  {
   "cell_type": "code",
   "execution_count": 98,
   "metadata": {},
   "outputs": [
    {
     "data": {
      "text/html": [
       "<div>\n",
       "<style scoped>\n",
       "    .dataframe tbody tr th:only-of-type {\n",
       "        vertical-align: middle;\n",
       "    }\n",
       "\n",
       "    .dataframe tbody tr th {\n",
       "        vertical-align: top;\n",
       "    }\n",
       "\n",
       "    .dataframe thead th {\n",
       "        text-align: right;\n",
       "    }\n",
       "</style>\n",
       "<table border=\"1\" class=\"dataframe\">\n",
       "  <thead>\n",
       "    <tr style=\"text-align: right;\">\n",
       "      <th></th>\n",
       "      <th>stock_code</th>\n",
       "      <th>name</th>\n",
       "      <th>pubDate</th>\n",
       "      <th>title</th>\n",
       "      <th>description</th>\n",
       "      <th>originallink</th>\n",
       "    </tr>\n",
       "  </thead>\n",
       "  <tbody>\n",
       "    <tr>\n",
       "      <th>0</th>\n",
       "      <td>005930</td>\n",
       "      <td>삼성전자</td>\n",
       "      <td>2024-08-30 10:03:00+09:00</td>\n",
       "      <td>&amp;quot;&lt;b&gt;삼성전자&lt;/b&gt;, 노키아 모바일 네트워크 인수에 관심&amp;quot; &amp;...</td>\n",
       "      <td>&lt;b&gt;삼성전자&lt;/b&gt;가 핀란드의 통신장비업체 노키아의 모바일 네트워크 자산 인수에 ...</td>\n",
       "      <td>https://news.tvchosun.com/site/data/html_dir/2...</td>\n",
       "    </tr>\n",
       "    <tr>\n",
       "      <th>1</th>\n",
       "      <td>005930</td>\n",
       "      <td>삼성전자</td>\n",
       "      <td>2024-08-30 09:29:00+09:00</td>\n",
       "      <td>&lt;b&gt;삼성전자&lt;/b&gt; AI 가전, '스마트 포워드'로 다양한 신기능 추가</td>\n",
       "      <td>&lt;b&gt;삼성전자&lt;/b&gt;는 자사 소프트웨어 정기 업데이트 서비스인 '스마트 포워드(Sm...</td>\n",
       "      <td>https://zdnet.co.kr/view/?no=20240830091122</td>\n",
       "    </tr>\n",
       "    <tr>\n",
       "      <th>2</th>\n",
       "      <td>005930</td>\n",
       "      <td>삼성전자</td>\n",
       "      <td>2024-08-30 08:14:00+09:00</td>\n",
       "      <td>&lt;b&gt;삼성전자&lt;/b&gt;, '생성형 배경 화면' '컵 세척 코스' 등 AI 신기능 추가</td>\n",
       "      <td>&lt;b&gt;삼성전자&lt;/b&gt;는 소프트웨어 정기 업데이트 서비스인 '스마트 포워드(Smart...</td>\n",
       "      <td>https://www.dailian.co.kr/news/view/1401567/?s...</td>\n",
       "    </tr>\n",
       "    <tr>\n",
       "      <th>3</th>\n",
       "      <td>005930</td>\n",
       "      <td>삼성전자</td>\n",
       "      <td>2024-08-30 13:55:00+09:00</td>\n",
       "      <td>블룸버그 “&lt;b&gt;삼성전자&lt;/b&gt;, 노키아 통신장비 인수에 관심”</td>\n",
       "      <td>&lt;b&gt;삼성전자&lt;/b&gt;가 글로벌 3위 통신장비업체 노키아의 통신장비 자산 인수에 관심...</td>\n",
       "      <td>https://www.donga.com/news/Economy/article/all...</td>\n",
       "    </tr>\n",
       "    <tr>\n",
       "      <th>4</th>\n",
       "      <td>005930</td>\n",
       "      <td>삼성전자</td>\n",
       "      <td>2024-08-30 10:46:00+09:00</td>\n",
       "      <td>&amp;quot;&lt;b&gt;삼성전자&lt;/b&gt;, 노키아 모바일 네트워크 인수에 관심&amp;quot;</td>\n",
       "      <td>&lt;b&gt;삼성전자&lt;/b&gt;가 핀란드 통신장비업체 노키아의 모바일 네트워크 자산 인수에 관...</td>\n",
       "      <td>https://www.ytn.co.kr/_ln/0104_202408301046116168</td>\n",
       "    </tr>\n",
       "    <tr>\n",
       "      <th>...</th>\n",
       "      <td>...</td>\n",
       "      <td>...</td>\n",
       "      <td>...</td>\n",
       "      <td>...</td>\n",
       "      <td>...</td>\n",
       "      <td>...</td>\n",
       "    </tr>\n",
       "    <tr>\n",
       "      <th>75</th>\n",
       "      <td>005930</td>\n",
       "      <td>삼성전자</td>\n",
       "      <td>2024-08-30 09:20:00+09:00</td>\n",
       "      <td>&lt;b&gt;삼성전자&lt;/b&gt;, 신기능 업데이트로 AI 가전 사용성↑</td>\n",
       "      <td>&lt;b&gt;삼성전자&lt;/b&gt;가 소프트웨어 정기 업데이트 서비스인 '스마트 포워드'를 통해 ...</td>\n",
       "      <td>http://www.dizzotv.com/site/data/html_dir/2024...</td>\n",
       "    </tr>\n",
       "    <tr>\n",
       "      <th>76</th>\n",
       "      <td>005930</td>\n",
       "      <td>삼성전자</td>\n",
       "      <td>2024-08-30 09:06:00+09:00</td>\n",
       "      <td>&lt;b&gt;삼성전자&lt;/b&gt;, AI 주방가전 '스마트포뭐드' 업데이트로 새기능 단다</td>\n",
       "      <td>&lt;b&gt;삼성전자&lt;/b&gt;가 소프트웨어 정기 업데이트 서비스인 '스마트 포워드'(Smar...</td>\n",
       "      <td>http://www.seoulwire.com/news/articleView.html...</td>\n",
       "    </tr>\n",
       "    <tr>\n",
       "      <th>77</th>\n",
       "      <td>005930</td>\n",
       "      <td>삼성전자</td>\n",
       "      <td>2024-08-30 09:42:00+09:00</td>\n",
       "      <td>&lt;b&gt;삼성전자&lt;/b&gt;, 냉장고·식세기 등에 AI 가전 신기능 업데이트</td>\n",
       "      <td>&lt;b&gt;삼성전자&lt;/b&gt; 모델이 '비스포크 AI 패밀리허브' 냉장고의 '생성형 배경 화...</td>\n",
       "      <td>http://www.smedaily.co.kr/news/articleView.htm...</td>\n",
       "    </tr>\n",
       "    <tr>\n",
       "      <th>78</th>\n",
       "      <td>005930</td>\n",
       "      <td>삼성전자</td>\n",
       "      <td>2024-08-30 15:13:00+09:00</td>\n",
       "      <td>'패럴림픽 후원사' &lt;b&gt;삼성전자&lt;/b&gt;가 전세계 청소년들 파리로 모은 이유</td>\n",
       "      <td>올림픽·패럴림픽 공식 후원사인 &lt;b&gt;삼성전자&lt;/b&gt;가 프랑스 파리에서 CSR(사회공...</td>\n",
       "      <td>http://news.mt.co.kr/mtview.php?no=20240830150...</td>\n",
       "    </tr>\n",
       "    <tr>\n",
       "      <th>79</th>\n",
       "      <td>005930</td>\n",
       "      <td>삼성전자</td>\n",
       "      <td>2024-08-30 12:12:00+09:00</td>\n",
       "      <td>블룸버그 &amp;quot;&lt;b&gt;삼성전자&lt;/b&gt;, 노키아 모바일 네트워크 인수 관심&amp;quot;</td>\n",
       "      <td>&lt;b&gt;삼성전자&lt;/b&gt; 서초 사옥 &lt;b&gt;삼성전자&lt;/b&gt;가 핀란드 통신장비업체 노키아의...</td>\n",
       "      <td>http://www.kdfnews.com/news/articleView.html?i...</td>\n",
       "    </tr>\n",
       "  </tbody>\n",
       "</table>\n",
       "<p>80 rows × 6 columns</p>\n",
       "</div>"
      ],
      "text/plain": [
       "   stock_code  name                   pubDate  \\\n",
       "0      005930  삼성전자 2024-08-30 10:03:00+09:00   \n",
       "1      005930  삼성전자 2024-08-30 09:29:00+09:00   \n",
       "2      005930  삼성전자 2024-08-30 08:14:00+09:00   \n",
       "3      005930  삼성전자 2024-08-30 13:55:00+09:00   \n",
       "4      005930  삼성전자 2024-08-30 10:46:00+09:00   \n",
       "..        ...   ...                       ...   \n",
       "75     005930  삼성전자 2024-08-30 09:20:00+09:00   \n",
       "76     005930  삼성전자 2024-08-30 09:06:00+09:00   \n",
       "77     005930  삼성전자 2024-08-30 09:42:00+09:00   \n",
       "78     005930  삼성전자 2024-08-30 15:13:00+09:00   \n",
       "79     005930  삼성전자 2024-08-30 12:12:00+09:00   \n",
       "\n",
       "                                                title  \\\n",
       "0   &quot;<b>삼성전자</b>, 노키아 모바일 네트워크 인수에 관심&quot; &...   \n",
       "1            <b>삼성전자</b> AI 가전, '스마트 포워드'로 다양한 신기능 추가   \n",
       "2      <b>삼성전자</b>, '생성형 배경 화면' '컵 세척 코스' 등 AI 신기능 추가   \n",
       "3                 블룸버그 “<b>삼성전자</b>, 노키아 통신장비 인수에 관심”   \n",
       "4        &quot;<b>삼성전자</b>, 노키아 모바일 네트워크 인수에 관심&quot;   \n",
       "..                                                ...   \n",
       "75                  <b>삼성전자</b>, 신기능 업데이트로 AI 가전 사용성↑   \n",
       "76         <b>삼성전자</b>, AI 주방가전 '스마트포뭐드' 업데이트로 새기능 단다   \n",
       "77             <b>삼성전자</b>, 냉장고·식세기 등에 AI 가전 신기능 업데이트   \n",
       "78         '패럴림픽 후원사' <b>삼성전자</b>가 전세계 청소년들 파리로 모은 이유   \n",
       "79   블룸버그 &quot;<b>삼성전자</b>, 노키아 모바일 네트워크 인수 관심&quot;   \n",
       "\n",
       "                                          description  \\\n",
       "0   <b>삼성전자</b>가 핀란드의 통신장비업체 노키아의 모바일 네트워크 자산 인수에 ...   \n",
       "1   <b>삼성전자</b>는 자사 소프트웨어 정기 업데이트 서비스인 '스마트 포워드(Sm...   \n",
       "2   <b>삼성전자</b>는 소프트웨어 정기 업데이트 서비스인 '스마트 포워드(Smart...   \n",
       "3   <b>삼성전자</b>가 글로벌 3위 통신장비업체 노키아의 통신장비 자산 인수에 관심...   \n",
       "4   <b>삼성전자</b>가 핀란드 통신장비업체 노키아의 모바일 네트워크 자산 인수에 관...   \n",
       "..                                                ...   \n",
       "75  <b>삼성전자</b>가 소프트웨어 정기 업데이트 서비스인 '스마트 포워드'를 통해 ...   \n",
       "76  <b>삼성전자</b>가 소프트웨어 정기 업데이트 서비스인 '스마트 포워드'(Smar...   \n",
       "77  <b>삼성전자</b> 모델이 '비스포크 AI 패밀리허브' 냉장고의 '생성형 배경 화...   \n",
       "78  올림픽·패럴림픽 공식 후원사인 <b>삼성전자</b>가 프랑스 파리에서 CSR(사회공...   \n",
       "79  <b>삼성전자</b> 서초 사옥 <b>삼성전자</b>가 핀란드 통신장비업체 노키아의...   \n",
       "\n",
       "                                         originallink  \n",
       "0   https://news.tvchosun.com/site/data/html_dir/2...  \n",
       "1         https://zdnet.co.kr/view/?no=20240830091122  \n",
       "2   https://www.dailian.co.kr/news/view/1401567/?s...  \n",
       "3   https://www.donga.com/news/Economy/article/all...  \n",
       "4   https://www.ytn.co.kr/_ln/0104_202408301046116168  \n",
       "..                                                ...  \n",
       "75  http://www.dizzotv.com/site/data/html_dir/2024...  \n",
       "76  http://www.seoulwire.com/news/articleView.html...  \n",
       "77  http://www.smedaily.co.kr/news/articleView.htm...  \n",
       "78  http://news.mt.co.kr/mtview.php?no=20240830150...  \n",
       "79  http://www.kdfnews.com/news/articleView.html?i...  \n",
       "\n",
       "[80 rows x 6 columns]"
      ]
     },
     "execution_count": 98,
     "metadata": {},
     "output_type": "execute_result"
    }
   ],
   "source": [
    "rds_df"
   ]
  },
  {
   "cell_type": "code",
   "execution_count": 80,
   "metadata": {},
   "outputs": [
    {
     "data": {
      "text/plain": [
       "80"
      ]
     },
     "execution_count": 80,
     "metadata": {},
     "output_type": "execute_result"
    }
   ],
   "source": [
    "rds_df.to_sql('news', index=False, if_exists=\"append\", con=engine)"
   ]
  },
  {
   "cell_type": "code",
   "execution_count": 77,
   "metadata": {},
   "outputs": [
    {
     "data": {
      "text/plain": [
       "Index(['title', 'originallink', 'description', 'pubDate', 'name',\n",
       "       'stock_code'],\n",
       "      dtype='object')"
      ]
     },
     "execution_count": 77,
     "metadata": {},
     "output_type": "execute_result"
    }
   ],
   "source": [
    "rds_df.columns"
   ]
  },
  {
   "cell_type": "code",
   "execution_count": 72,
   "metadata": {},
   "outputs": [
    {
     "name": "stdout",
     "output_type": "stream",
     "text": [
      "<class 'pandas.core.frame.DataFrame'>\n",
      "RangeIndex: 100 entries, 0 to 99\n",
      "Data columns (total 5 columns):\n",
      " #   Column        Non-Null Count  Dtype                    \n",
      "---  ------        --------------  -----                    \n",
      " 0   title         100 non-null    object                   \n",
      " 1   originallink  100 non-null    object                   \n",
      " 2   link          100 non-null    object                   \n",
      " 3   description   100 non-null    object                   \n",
      " 4   pubDate       100 non-null    datetime64[ns, UTC+09:00]\n",
      "dtypes: datetime64[ns, UTC+09:00](1), object(4)\n",
      "memory usage: 4.0+ KB\n"
     ]
    }
   ],
   "source": [
    "df.info()"
   ]
  },
  {
   "cell_type": "code",
   "execution_count": null,
   "metadata": {},
   "outputs": [],
   "source": []
  },
  {
   "cell_type": "code",
   "execution_count": null,
   "metadata": {},
   "outputs": [],
   "source": []
  },
  {
   "cell_type": "code",
   "execution_count": null,
   "metadata": {},
   "outputs": [],
   "source": []
  },
  {
   "cell_type": "code",
   "execution_count": null,
   "metadata": {},
   "outputs": [],
   "source": []
  }
 ],
 "metadata": {
  "kernelspec": {
   "display_name": "venv",
   "language": "python",
   "name": "python3"
  },
  "language_info": {
   "codemirror_mode": {
    "name": "ipython",
    "version": 3
   },
   "file_extension": ".py",
   "mimetype": "text/x-python",
   "name": "python",
   "nbconvert_exporter": "python",
   "pygments_lexer": "ipython3",
   "version": "3.12.3"
  }
 },
 "nbformat": 4,
 "nbformat_minor": 2
}
