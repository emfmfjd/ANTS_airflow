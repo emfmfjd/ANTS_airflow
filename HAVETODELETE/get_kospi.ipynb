{
 "cells": [
  {
   "cell_type": "code",
   "execution_count": 8,
   "metadata": {},
   "outputs": [],
   "source": [
    "import requests\n",
    "import pandas as pd\n",
    "from datetime import datetime, timedelta\n",
    "import json\n",
    "import pytz"
   ]
  },
  {
   "cell_type": "code",
   "execution_count": 9,
   "metadata": {},
   "outputs": [],
   "source": [
    "local_tz = pytz.timezone('Asia/Seoul') \n",
    "start = (datetime.now(local_tz) - timedelta(minutes=5)).strftime(\"%Y%m%d%H%M\")\n",
    "end = datetime.now(local_tz).strftime(\"%Y%m%d%H%M\")"
   ]
  },
  {
   "cell_type": "code",
   "execution_count": 63,
   "metadata": {},
   "outputs": [],
   "source": [
    "url = \"https://api.stock.naver.com/chart/domestic/index/KOSPI/minute?startDateTime={}&endDateTime={}\""
   ]
  },
  {
   "cell_type": "code",
   "execution_count": 64,
   "metadata": {},
   "outputs": [],
   "source": [
    "r = requests.get(url.format(start,end))"
   ]
  },
  {
   "cell_type": "code",
   "execution_count": 65,
   "metadata": {},
   "outputs": [
    {
     "data": {
      "text/plain": [
       "'[{\"localDateTime\":\"20240903102000\",\"currentPrice\":2683.65,\"openPrice\":2684.28,\"highPrice\":2684.28,\"lowPrice\":2682.65,\"accumulatedTradingVolume\":106468},{\"localDateTime\":\"20240903102100\",\"currentPrice\":2683.94,\"openPrice\":2684.41,\"highPrice\":2684.59,\"lowPrice\":2683.65,\"accumulatedTradingVolume\":620},{\"localDateTime\":\"20240903102200\",\"currentPrice\":2684.58,\"openPrice\":2684.16,\"highPrice\":2684.75,\"lowPrice\":2684.16,\"accumulatedTradingVolume\":627},{\"localDateTime\":\"20240903102300\",\"currentPrice\":2684.04,\"openPrice\":2684.72,\"highPrice\":2684.9,\"lowPrice\":2684.04,\"accumulatedTradingVolume\":557},{\"localDateTime\":\"20240903102400\",\"currentPrice\":2683.83,\"openPrice\":2684.78,\"highPrice\":2684.78,\"lowPrice\":2683.8,\"accumulatedTradingVolume\":626},{\"localDateTime\":\"20240903102500\",\"currentPrice\":2684.6,\"openPrice\":2684.6,\"highPrice\":2684.6,\"lowPrice\":2684.6,\"accumulatedTradingVolume\":70}]'"
      ]
     },
     "execution_count": 65,
     "metadata": {},
     "output_type": "execute_result"
    }
   ],
   "source": [
    "r.text"
   ]
  },
  {
   "cell_type": "code",
   "execution_count": 66,
   "metadata": {},
   "outputs": [
    {
     "data": {
      "text/html": [
       "<div>\n",
       "<style scoped>\n",
       "    .dataframe tbody tr th:only-of-type {\n",
       "        vertical-align: middle;\n",
       "    }\n",
       "\n",
       "    .dataframe tbody tr th {\n",
       "        vertical-align: top;\n",
       "    }\n",
       "\n",
       "    .dataframe thead th {\n",
       "        text-align: right;\n",
       "    }\n",
       "</style>\n",
       "<table border=\"1\" class=\"dataframe\">\n",
       "  <thead>\n",
       "    <tr style=\"text-align: right;\">\n",
       "      <th></th>\n",
       "      <th>localDateTime</th>\n",
       "      <th>currentPrice</th>\n",
       "      <th>openPrice</th>\n",
       "      <th>highPrice</th>\n",
       "      <th>lowPrice</th>\n",
       "      <th>accumulatedTradingVolume</th>\n",
       "    </tr>\n",
       "  </thead>\n",
       "  <tbody>\n",
       "    <tr>\n",
       "      <th>0</th>\n",
       "      <td>20240903102000</td>\n",
       "      <td>2683.65</td>\n",
       "      <td>2684.28</td>\n",
       "      <td>2684.28</td>\n",
       "      <td>2682.65</td>\n",
       "      <td>106468</td>\n",
       "    </tr>\n",
       "    <tr>\n",
       "      <th>1</th>\n",
       "      <td>20240903102100</td>\n",
       "      <td>2683.94</td>\n",
       "      <td>2684.41</td>\n",
       "      <td>2684.59</td>\n",
       "      <td>2683.65</td>\n",
       "      <td>620</td>\n",
       "    </tr>\n",
       "    <tr>\n",
       "      <th>2</th>\n",
       "      <td>20240903102200</td>\n",
       "      <td>2684.58</td>\n",
       "      <td>2684.16</td>\n",
       "      <td>2684.75</td>\n",
       "      <td>2684.16</td>\n",
       "      <td>627</td>\n",
       "    </tr>\n",
       "    <tr>\n",
       "      <th>3</th>\n",
       "      <td>20240903102300</td>\n",
       "      <td>2684.04</td>\n",
       "      <td>2684.72</td>\n",
       "      <td>2684.90</td>\n",
       "      <td>2684.04</td>\n",
       "      <td>557</td>\n",
       "    </tr>\n",
       "    <tr>\n",
       "      <th>4</th>\n",
       "      <td>20240903102400</td>\n",
       "      <td>2683.83</td>\n",
       "      <td>2684.78</td>\n",
       "      <td>2684.78</td>\n",
       "      <td>2683.80</td>\n",
       "      <td>626</td>\n",
       "    </tr>\n",
       "    <tr>\n",
       "      <th>5</th>\n",
       "      <td>20240903102500</td>\n",
       "      <td>2684.60</td>\n",
       "      <td>2684.60</td>\n",
       "      <td>2684.60</td>\n",
       "      <td>2684.60</td>\n",
       "      <td>70</td>\n",
       "    </tr>\n",
       "  </tbody>\n",
       "</table>\n",
       "</div>"
      ],
      "text/plain": [
       "    localDateTime  currentPrice  openPrice  highPrice  lowPrice  \\\n",
       "0  20240903102000       2683.65    2684.28    2684.28   2682.65   \n",
       "1  20240903102100       2683.94    2684.41    2684.59   2683.65   \n",
       "2  20240903102200       2684.58    2684.16    2684.75   2684.16   \n",
       "3  20240903102300       2684.04    2684.72    2684.90   2684.04   \n",
       "4  20240903102400       2683.83    2684.78    2684.78   2683.80   \n",
       "5  20240903102500       2684.60    2684.60    2684.60   2684.60   \n",
       "\n",
       "   accumulatedTradingVolume  \n",
       "0                    106468  \n",
       "1                       620  \n",
       "2                       627  \n",
       "3                       557  \n",
       "4                       626  \n",
       "5                        70  "
      ]
     },
     "execution_count": 66,
     "metadata": {},
     "output_type": "execute_result"
    }
   ],
   "source": [
    "pd.DataFrame(r.json())"
   ]
  },
  {
   "cell_type": "code",
   "execution_count": 90,
   "metadata": {},
   "outputs": [
    {
     "ename": "ValueError",
     "evalue": "multi-byte encodings are not supported",
     "output_type": "error",
     "traceback": [
      "\u001b[0;31m---------------------------------------------------------------------------\u001b[0m",
      "\u001b[0;31mValueError\u001b[0m                                Traceback (most recent call last)",
      "Cell \u001b[0;32mIn[90], line 12\u001b[0m\n\u001b[1;32m      9\u001b[0m xml_data \u001b[38;5;241m=\u001b[39m response\u001b[38;5;241m.\u001b[39mcontent\n\u001b[1;32m     11\u001b[0m \u001b[38;5;66;03m# ElementTree로 XML 파싱\u001b[39;00m\n\u001b[0;32m---> 12\u001b[0m root \u001b[38;5;241m=\u001b[39m \u001b[43mET\u001b[49m\u001b[38;5;241;43m.\u001b[39;49m\u001b[43mfromstring\u001b[49m\u001b[43m(\u001b[49m\u001b[43mxml_data\u001b[49m\u001b[43m)\u001b[49m\n\u001b[1;32m     14\u001b[0m \u001b[38;5;66;03m# 예를 들어, 모든 <item> 태그 순회\u001b[39;00m\n\u001b[1;32m     15\u001b[0m \u001b[38;5;28;01mfor\u001b[39;00m item \u001b[38;5;129;01min\u001b[39;00m root\u001b[38;5;241m.\u001b[39mfindall(\u001b[38;5;124m'\u001b[39m\u001b[38;5;124m.//item\u001b[39m\u001b[38;5;124m'\u001b[39m):\n",
      "File \u001b[0;32m/usr/lib/python3.12/xml/etree/ElementTree.py:1335\u001b[0m, in \u001b[0;36mXML\u001b[0;34m(text, parser)\u001b[0m\n\u001b[1;32m   1333\u001b[0m \u001b[38;5;28;01mif\u001b[39;00m \u001b[38;5;129;01mnot\u001b[39;00m parser:\n\u001b[1;32m   1334\u001b[0m     parser \u001b[38;5;241m=\u001b[39m XMLParser(target\u001b[38;5;241m=\u001b[39mTreeBuilder())\n\u001b[0;32m-> 1335\u001b[0m \u001b[43mparser\u001b[49m\u001b[38;5;241;43m.\u001b[39;49m\u001b[43mfeed\u001b[49m\u001b[43m(\u001b[49m\u001b[43mtext\u001b[49m\u001b[43m)\u001b[49m\n\u001b[1;32m   1336\u001b[0m \u001b[38;5;28;01mreturn\u001b[39;00m parser\u001b[38;5;241m.\u001b[39mclose()\n",
      "\u001b[0;31mValueError\u001b[0m: multi-byte encodings are not supported"
     ]
    }
   ],
   "source": [
    "import requests\n",
    "import xml.etree.ElementTree as ET\n",
    "\n",
    "# XML 데이터가 있는 URL\n",
    "url = 'https://cyberir.koscom.co.kr/cyberir/main.do?custId=koscom'\n",
    "\n",
    "# XML 데이터를 가져오기\n",
    "response = requests.get(url)\n",
    "xml_data = response.content\n",
    "\n",
    "# ElementTree로 XML 파싱\n",
    "root = ET.fromstring(xml_data)\n",
    "\n",
    "# 예를 들어, 모든 <item> 태그 순회\n",
    "for item in root.findall('.//item'):\n",
    "    title = item.find('title').text\n",
    "    description = item.find('description').text\n",
    "    print(f'Title: {title}')\n",
    "    print(f'Description: {description}')\n"
   ]
  },
  {
   "cell_type": "code",
   "execution_count": 81,
   "metadata": {},
   "outputs": [],
   "source": [
    "ko_url = \"https://cyberir.koscom.co.kr/cyberir/main.do?custId=koscom\""
   ]
  },
  {
   "cell_type": "code",
   "execution_count": 82,
   "metadata": {},
   "outputs": [],
   "source": [
    "head = {\"custId\": \"koscom\"}"
   ]
  },
  {
   "cell_type": "code",
   "execution_count": 83,
   "metadata": {},
   "outputs": [],
   "source": [
    "kr = requests.get(url)"
   ]
  },
  {
   "cell_type": "code",
   "execution_count": 84,
   "metadata": {},
   "outputs": [
    {
     "data": {
      "text/plain": [
       "'[]'"
      ]
     },
     "execution_count": 84,
     "metadata": {},
     "output_type": "execute_result"
    }
   ],
   "source": [
    "kr.text"
   ]
  },
  {
   "cell_type": "code",
   "execution_count": null,
   "metadata": {},
   "outputs": [],
   "source": [
    "\"query\": \"SERVICE_INDEX:KOSPI\",\n",
    "\"_callback\": \"window.__jindo2_callback._8782\","
   ]
  },
  {
   "cell_type": "code",
   "execution_count": 91,
   "metadata": {},
   "outputs": [],
   "source": [
    "from selenium import webdriver\n",
    "from selenium.webdriver.common.by import By\n",
    "from bs4 import BeautifulSoup"
   ]
  },
  {
   "cell_type": "code",
   "execution_count": 10,
   "metadata": {},
   "outputs": [
    {
     "data": {
      "text/html": [
       "<div>\n",
       "<style scoped>\n",
       "    .dataframe tbody tr th:only-of-type {\n",
       "        vertical-align: middle;\n",
       "    }\n",
       "\n",
       "    .dataframe tbody tr th {\n",
       "        vertical-align: top;\n",
       "    }\n",
       "\n",
       "    .dataframe thead th {\n",
       "        text-align: right;\n",
       "    }\n",
       "</style>\n",
       "<table border=\"1\" class=\"dataframe\">\n",
       "  <thead>\n",
       "    <tr style=\"text-align: right;\">\n",
       "      <th></th>\n",
       "      <th>StockName</th>\n",
       "      <th>CurrentPoint</th>\n",
       "      <th>UpDownPoint</th>\n",
       "      <th>UpDownRate</th>\n",
       "      <th>UpDownFlag</th>\n",
       "      <th>price_time</th>\n",
       "    </tr>\n",
       "  </thead>\n",
       "  <tbody>\n",
       "    <tr>\n",
       "      <th>0</th>\n",
       "      <td>KOSPI</td>\n",
       "      <td>2,683.74</td>\n",
       "      <td>2.74</td>\n",
       "      <td>0.10</td>\n",
       "      <td>1</td>\n",
       "      <td>202409031053</td>\n",
       "    </tr>\n",
       "    <tr>\n",
       "      <th>1</th>\n",
       "      <td>KOSDAQ</td>\n",
       "      <td>769.05</td>\n",
       "      <td>-0.16</td>\n",
       "      <td>-0.02</td>\n",
       "      <td>2</td>\n",
       "      <td>202409031053</td>\n",
       "    </tr>\n",
       "    <tr>\n",
       "      <th>2</th>\n",
       "      <td>KOSPI200</td>\n",
       "      <td>362.02</td>\n",
       "      <td>-0.07</td>\n",
       "      <td>-0.02</td>\n",
       "      <td>2</td>\n",
       "      <td>202409031053</td>\n",
       "    </tr>\n",
       "    <tr>\n",
       "      <th>3</th>\n",
       "      <td>KRX100</td>\n",
       "      <td>5,665.28</td>\n",
       "      <td>-2.78</td>\n",
       "      <td>-0.05</td>\n",
       "      <td>2</td>\n",
       "      <td>202409031053</td>\n",
       "    </tr>\n",
       "  </tbody>\n",
       "</table>\n",
       "</div>"
      ],
      "text/plain": [
       "  StockName CurrentPoint UpDownPoint UpDownRate UpDownFlag    price_time\n",
       "0     KOSPI     2,683.74        2.74       0.10          1  202409031053\n",
       "1    KOSDAQ       769.05       -0.16      -0.02          2  202409031053\n",
       "2  KOSPI200       362.02       -0.07      -0.02          2  202409031053\n",
       "3    KRX100     5,665.28       -2.78      -0.05          2  202409031053"
      ]
     },
     "execution_count": 10,
     "metadata": {},
     "output_type": "execute_result"
    }
   ],
   "source": [
    "import requests\n",
    "from bs4 import BeautifulSoup\n",
    "import pandas as pd\n",
    "from datetime import datetime\n",
    "\n",
    "# URL 설정\n",
    "url = \"https://cyberir.koscom.co.kr/cyberir/main.do?custId=koscom\"\n",
    "\n",
    "# 웹페이지 데이터를 가져오기\n",
    "response = requests.get(url)\n",
    "xml_data = response.content.decode('utf-8')\n",
    "\n",
    "# BeautifulSoup으로 XML 파싱 (XML 파서 사용)\n",
    "soup = BeautifulSoup(xml_data, features=\"xml\")\n",
    "\n",
    "# <KorStock> 태그 찾기\n",
    "korstocks = soup.find_all('KorStock')\n",
    "\n",
    "# 데이터를 저장할 리스트\n",
    "data = []\n",
    "\n",
    "# 각 <KorStock> 태그에서 데이터 추출\n",
    "for korstock in korstocks:\n",
    "    stock_name = korstock.find('StockName').text\n",
    "    current_point = korstock.find('CurrentPoint').text\n",
    "    up_down_point = korstock.find('UpDownPoint').text\n",
    "    up_down_rate = korstock.find('UpDownRate').text\n",
    "    up_down_flag = korstock.find('UpDownFlag').text.strip()  # 공백 제거\n",
    "\n",
    "    # 리스트에 추가\n",
    "    data.append({\n",
    "        'StockName': stock_name,\n",
    "        'CurrentPoint': current_point,\n",
    "        'UpDownPoint': up_down_point,\n",
    "        'UpDownRate': up_down_rate,\n",
    "        'UpDownFlag': up_down_flag\n",
    "    })\n",
    "\n",
    "# 리스트를 DataFrame으로 변환\n",
    "df = pd.DataFrame(data)\n",
    "df['price_time'] = datetime.now(local_tz).strftime(\"%Y%m%d%H%M\")\n",
    "df"
   ]
  },
  {
   "cell_type": "code",
   "execution_count": null,
   "metadata": {},
   "outputs": [],
   "source": []
  }
 ],
 "metadata": {
  "kernelspec": {
   "display_name": "venv",
   "language": "python",
   "name": "python3"
  },
  "language_info": {
   "codemirror_mode": {
    "name": "ipython",
    "version": 3
   },
   "file_extension": ".py",
   "mimetype": "text/x-python",
   "name": "python",
   "nbconvert_exporter": "python",
   "pygments_lexer": "ipython3",
   "version": "3.12.3"
  }
 },
 "nbformat": 4,
 "nbformat_minor": 2
}
